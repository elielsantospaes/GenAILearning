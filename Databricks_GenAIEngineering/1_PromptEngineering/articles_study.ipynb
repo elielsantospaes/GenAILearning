{
 "cells": [
  {
   "cell_type": "code",
   "execution_count": 0,
   "metadata": {
    "application/vnd.databricks.v1+cell": {
     "cellMetadata": {
      "byteLimit": 2048000,
      "rowLimit": 10000
     },
     "inputWidgets": {},
     "nuid": "400df502-9108-455c-ae55-5cd77339cd33",
     "showTitle": true,
     "tableResultSettingsMap": {},
     "title": "Install necessary libraries"
    }
   },
   "outputs": [],
   "source": [
    "%pip install mlflow==2.10.1 lxml==4.9.3 langchain==0.1.5 databricks-vectorsearch==0.22 cloudpickle==2.2.1 databricks-sdk==0.18.0 cloudpickle==2.2.1 pydantic==2.5.2 openpyxl\n",
    "%pip install pip mlflow[databricks]==2.10.1 PyPDF2\n",
    "\n",
    "dbutils.library.restartPython()"
   ]
  },
  {
   "cell_type": "code",
   "execution_count": 0,
   "metadata": {
    "application/vnd.databricks.v1+cell": {
     "cellMetadata": {
      "byteLimit": 2048000,
      "rowLimit": 10000
     },
     "inputWidgets": {},
     "nuid": "fa669549-1e32-4b75-a70e-77f7dea81c2f",
     "showTitle": true,
     "tableResultSettingsMap": {},
     "title": "Imports"
    }
   },
   "outputs": [],
   "source": [
    "from pyspark.sql import functions as F\n",
    "from pyspark.sql import Window\n",
    "import pandas as pd\n",
    "import random\n",
    "import os\n",
    "import uuid\n",
    "import json\n",
    "import io\n",
    "import plotly.express as px\n",
    "from langchain_community.chat_models import ChatDatabricks\n",
    "import PyPDF2\n",
    "\n",
    "from datetime import datetime\n",
    "from pyspark.sql.functions import pandas_udf\n",
    "from pyspark.sql.types import StringType"
   ]
  },
  {
   "cell_type": "code",
   "execution_count": 0,
   "metadata": {
    "application/vnd.databricks.v1+cell": {
     "cellMetadata": {
      "byteLimit": 2048000,
      "rowLimit": 10000
     },
     "inputWidgets": {},
     "nuid": "28aa772a-9e09-483d-babb-fe8f1cfbe391",
     "showTitle": true,
     "tableResultSettingsMap": {},
     "title": "Instaciate a chatbot (llama 4 maverik)"
    },
    "jupyter": {
     "source_hidden": true
    }
   },
   "outputs": [],
   "source": [
    "chat_endpoint = \"databricks-llama-4-maverick\" \n",
    "chat_model = ChatDatabricks(endpoint = chat_endpoint,\n",
    "                            temperature = 0,\n",
    "                            max_tokens = 8192) "
   ]
  },
  {
   "cell_type": "code",
   "execution_count": 0,
   "metadata": {
    "application/vnd.databricks.v1+cell": {
     "cellMetadata": {
      "byteLimit": 2048000,
      "rowLimit": 10000
     },
     "inputWidgets": {},
     "nuid": "9e2155ab-92e7-4ee3-9325-73d8678c273a",
     "showTitle": true,
     "tableResultSettingsMap": {},
     "title": "path of articles"
    }
   },
   "outputs": [],
   "source": [
    "base_path = \"/Workspace/Users/elielriey@gmail.com/GenAILearning/Databricks_GenAIEngineering/PromptEngineering/papers\"\n",
    "files_list = os.listdir(base_path)"
   ]
  },
  {
   "cell_type": "code",
   "execution_count": 0,
   "metadata": {
    "application/vnd.databricks.v1+cell": {
     "cellMetadata": {
      "byteLimit": 2048000,
      "rowLimit": 10000
     },
     "inputWidgets": {},
     "nuid": "c9292a0a-bfb8-4994-92a5-1ea6ed275049",
     "showTitle": false,
     "tableResultSettingsMap": {},
     "title": ""
    }
   },
   "outputs": [],
   "source": [
    "def generate_get_topics_prompt(article):\n",
    "    \n",
    "    TOPICS_PROMPT = f\"\"\"\n",
    "    INSTRUCTION:\n",
    "    You will receive a text of a scientific paper, that is breaked in some topics and subtopics. Your task is to extract only the name of the topics and subtopics you will be provided in the task:\n",
    "\n",
    "    EXAMPLES:\n",
    "    paper_1: '''\n",
    "    Fishing in the Open Sea: A Comprehensive Investigation\n",
    "    1. Introduction\n",
    "    Open sea fishing, also known as deep-sea or offshore fishing, is a practice that involves capturing fish species that dwell far from coastal waters. It plays a crucial role in global food security, economic development, and cultural traditions. Despite its significance, open sea fishing faces numerous challenges, including overfishing, climate change, and regulatory issues. This article explores the complexities of open sea fishing, analyzing current research, investigating ecological impacts, and evaluating fishing techniques used in offshore environments.\n",
    "\n",
    "    2. Related Work\n",
    "    Previous research on open sea fishing has predominantly focused on sustainability, technological advancements in fishing gear, and fish population dynamics. For instance, Pauly et al. (2002) emphasized the depletion of fish stocks due to industrial fishing methods, while Watson and Morato (2013) explored the effectiveness of marine protected areas (MPAs) in conserving biodiversity. Several studies have also analyzed the socioeconomic impacts of deep-sea fishing on coastal communities (Béné et al., 2010), and the role of satellite tracking in monitoring illegal fishing practices (Kroodsma et al., 2018).\n",
    "\n",
    "    3. Investigating the Impact of Fishing Techniques on Marine Ecosystems\n",
    "    One of the critical areas of concern in open sea fishing is the ecological impact of different fishing methods. Longlining, trawling, and purse seining are widely used, each with distinct consequences on marine habitats and non-target species. This investigation focuses on how these techniques affect bycatch rates, seafloor integrity, and migratory species.\n",
    "\n",
    "    4. Methodology\n",
    "    The study employed a mixed-methods approach combining quantitative data analysis and qualitative case studies. Satellite data from the Global Fishing Watch platform were used to map fishing activity across selected regions of the Atlantic and Pacific Oceans. In addition, interviews were conducted with marine biologists, fisheries officers, and local fishermen to gain insight into field practices. Bycatch data and habitat disturbance metrics were collected from published environmental impact assessments and national fisheries reports.\n",
    "\n",
    "    5. Results\n",
    "    The analysis revealed that:\n",
    "\n",
    "    Trawling resulted in the highest level of habitat disruption, with significant damage to benthic ecosystems.\n",
    "\n",
    "    Longlining showed moderate ecological impact, but high bycatch rates, particularly of seabirds and turtles.\n",
    "\n",
    "    Purse seining was the most efficient in terms of target catch but contributed to the unintentional capture of juvenile fish and dolphins.\n",
    "    Regions with strict enforcement of fishing quotas and gear regulations, such as parts of the North Atlantic, showed better ecological outcomes than those with weaker governance.\n",
    "\n",
    "    6. Discussion\n",
    "    These findings underscore the need for sustainable fishing practices that balance productivity with ecosystem preservation. While technological improvements in gear design have reduced some impacts, enforcement remains uneven across jurisdictions. Multinational agreements and data-sharing among countries are essential to combat illegal and unreported fishing. Moreover, promoting selective fishing methods and increasing investment in alternative livelihoods can help reduce pressure on open sea resources.\n",
    "\n",
    "    7. Conclusion\n",
    "    Open sea fishing is both an opportunity and a challenge. As global demand for seafood continues to rise, the need for ecologically responsible fishing methods becomes increasingly urgent. This article highlights that while significant progress has been made in understanding and managing offshore fishing, coordinated global action and ongoing research are vital to ensure the long-term sustainability of marine ecosystems and the communities that depend on them.'''\n",
    "\n",
    "    output: [\n",
    "    \"1. Introduction\",\n",
    "    \"2. Related Work\",\n",
    "    \"3. Investigating the Impact of Fishing Techniques on Marine Ecosystems\",\n",
    "    \"4. Methodology\",\n",
    "    \"5. Results\",\n",
    "    \"6. Discussion\",\n",
    "    \"7. Conclusion\"\n",
    "    ]\n",
    "\n",
    "    paper_2: '''1. Introduction\n",
    "    Noise suppression in headsets has become a key feature for enhancing audio clarity and user comfort in both professional and personal environments. By reducing or eliminating ambient sound, users can experience improved communication, focused listening, and reduced fatigue in noisy settings. Noise suppression is typically achieved through passive noise isolation, active noise cancellation (ANC), or a combination of both. This study investigates the effectiveness of noise suppression in two primary headset designs: intra-auricular (in-ear) and supra-auricular (over-ear) models, evaluating performance across different acoustic environments.\n",
    "\n",
    "    2. Approach\n",
    "    The approach taken in this study involved both objective measurements and subjective user evaluations. A sample of six commercial headset models—three intra-auricular and three supra-auricular—were tested in controlled acoustic environments simulating office noise, traffic, and human speech. Noise suppression efficiency was measured in decibels (dB) using head and torso simulators (HATS). Subjective feedback was collected through a standardized user questionnaire focused on comfort, perceived noise reduction, and audio quality.\n",
    "\n",
    "    Each headset was tested under two conditions:\n",
    "\n",
    "    Passive mode: relying only on physical noise isolation.\n",
    "\n",
    "    Active mode: with ANC turned on where available.\n",
    "\n",
    "    Data was collected and averaged across multiple sessions for statistical consistency.\n",
    "\n",
    "    3. Results\n",
    "    The results indicate varying levels of noise suppression performance based on headset design and use of active technologies.\n",
    "\n",
    "    3.1 Results for Intra-Auricular Cases\n",
    "    In-ear (intra-auricular) headsets demonstrated strong performance in the high-frequency range, primarily due to their seal within the ear canal. The average noise suppression was:\n",
    "\n",
    "    Passive mode: 18 dB\n",
    "\n",
    "    Active mode: 24 dB\n",
    "\n",
    "    Users reported effective isolation from office chatter and keyboard noise, but less success against low-frequency sounds such as engine hum. ANC effectiveness was more limited due to the smaller hardware size, but provided noticeable improvements in consistent environments.\n",
    "\n",
    "    3.2 Results for Supra-Auricular Cases\n",
    "    Over-ear (supra-auricular) headsets provided broader frequency noise suppression, particularly in the low-to-mid frequency range. Average suppression values were:\n",
    "\n",
    "    Passive mode: 15 dB\n",
    "\n",
    "    Active mode: 32 dB\n",
    "\n",
    "    ANC performance was significantly higher in these models, especially against consistent low-frequency noise like air conditioning or traffic rumble. Users noted higher comfort for long-term wear and better suppression in noisy public or transit environments. However, bulkiness was a reported drawback in mobile contexts.\n",
    "\n",
    "    4. Limitations\n",
    "    While the study provides valuable insights into the performance of noise suppression technologies, several limitations were identified.\n",
    "\n",
    "    4.1 Case Size Limitations\n",
    "    ANC performance is heavily dependent on component size and battery capacity. In-ear models face physical constraints that limit the quality of microphones and signal processing hardware, resulting in lower overall ANC efficiency. Conversely, over-ear headsets can house more advanced components but may sacrifice portability and comfort in hot or physically active settings.\n",
    "\n",
    "    Other case-related limitations include:\n",
    "\n",
    "    Reduced battery life for compact models under ANC mode\n",
    "\n",
    "    Feedback noise or audio coloration introduced by aggressive ANC in small enclosures\n",
    "\n",
    "    5. Conclusions\n",
    "    Noise suppression in headsets is a critical factor for modern audio applications, with each design offering distinct advantages. In-ear headsets provide discreetness and high-frequency isolation, while over-ear models excel at full-spectrum suppression, particularly in low frequencies. The choice between the two should consider use case, environment, and comfort preferences. While ANC technology has advanced significantly, its implementation is still constrained by form factor, especially in compact models. Future improvements in low-power processing and miniaturized components may further enhance ANC performance across all headset types.'''\n",
    "\n",
    "    output: [\n",
    "    \"1 Introduction\",\n",
    "    \"2 Aproach\",\n",
    "    \"3 Results\",\n",
    "    \"3.1 Results for intra auricular cases\",\n",
    "    \"3.2 Results for supra auricular cases\",\n",
    "    \"4 Limitations\",\n",
    "    \"4.1 Case size lilmitations\",\n",
    "    \"5 Conclusions\"\n",
    "    ]   \n",
    "\n",
    "\n",
    "    paper_3: '''Enhancing English Language Learning: Methods, Insights, and Future Directions\n",
    "    Motivation\n",
    "    English is the most widely studied second language in the world, serving as a global medium for business, science, education, and diplomacy. As societies become more interconnected, proficiency in English has become a key asset for personal, academic, and professional advancement. However, learners often face challenges such as lack of motivation, ineffective instruction, limited exposure, and difficulty acquiring pronunciation or fluency. This article aims to explore effective strategies for English learning, evaluate current methodologies, and present results from recent approaches to improve engagement and retention.\n",
    "\n",
    "    Related Work\n",
    "    Numerous studies have investigated second language acquisition (SLA), with emphasis on cognitive, social, and technological aspects. Krashen’s Input Hypothesis (1985) emphasized the importance of comprehensible input in language acquisition, while Swain (1985) argued for the importance of output in developing fluency. More recent work has explored the use of blended learning (Graham, 2006), gamified platforms (Peterson, 2012), and mobile-assisted language learning (MALL) (Kukulska-Hulme & Shield, 2008) as tools to engage learners and provide consistent practice. These studies underline the importance of learner autonomy, cultural context, and technology integration in effective language education.\n",
    "\n",
    "    Approach\n",
    "    This study focused on a multimodal learning approach, combining traditional classroom methods with digital tools and communicative techniques. The approach was built on three pillars:\n",
    "\n",
    "    Input-rich environment: Learners were exposed to a wide variety of listening and reading materials (songs, news, podcasts, short stories) to improve comprehension.\n",
    "\n",
    "    Interactive practice: Emphasis was placed on real-life communication through speaking clubs, peer conversations, and writing journals.\n",
    "\n",
    "    Technology integration: Tools like Duolingo, Anki (for spaced repetition), and AI chatbots were used to reinforce vocabulary and simulate dialogues.\n",
    "\n",
    "    A group of 60 learners, aged 16 to 40, were divided into two groups: a control group using traditional instruction and an experimental group following the multimodal approach over a period of 12 weeks.\n",
    "\n",
    "    Results\n",
    "    The experimental group demonstrated measurable improvements across all assessed areas:\n",
    "\n",
    "    Vocabulary retention increased by 32% compared to the control group.\n",
    "\n",
    "    Listening comprehension scores rose by 25%, attributed to regular exposure to authentic audio.\n",
    "\n",
    "    Speaking fluency, measured by words per minute and hesitation rate, improved by 40%.\n",
    "\n",
    "    Learner motivation, assessed through surveys, showed a significant boost in engagement, with 83% of participants reporting increased confidence in using English.\n",
    "\n",
    "    By contrast, the control group showed more modest gains, particularly in speaking and vocabulary retention.\n",
    "\n",
    "    Discussion\n",
    "    The results support the hypothesis that multimodal learning, particularly when combined with technology, yields better outcomes than traditional methods alone. The exposure to authentic language content not only improves comprehension but also enhances learner motivation by making the language feel relevant and useful. The integration of interactive tools fosters learner autonomy and allows for personalized pacing. However, the approach requires access to devices and a level of digital literacy, which may not be available to all learners. Moreover, while chatbots and apps can simulate conversation, they cannot fully replicate the richness of human interaction or cultural nuance.\n",
    "\n",
    "    Conclusions\n",
    "    English learning is most effective when it is immersive, interactive, and personalized. A multimodal approach that combines traditional methods with modern technology offers a promising path forward for learners of all backgrounds. As digital tools become more accessible and AI-powered language models improve, there is great potential to make English learning more engaging, efficient, and inclusive. Future research should continue exploring how adaptive learning systems and immersive technologies (such as VR and AR) can further enhance language acquisition across diverse populations.'''\n",
    "        \n",
    "    output: [\n",
    "    \"Motivation\",\n",
    "    \"Related work\",\n",
    "    \"Aproach\",\n",
    "    \"Results\",\n",
    "    \"Discussion\",\n",
    "    \"Conclusions\"\n",
    "    ] \n",
    "        \n",
    "    TASK:\n",
    "    Extract a list of topics and subtopics form the paper: {article}.\n",
    "    \n",
    "    OUTPUT:\n",
    "    Your answer must be a list o the extracted text in the format shown in the examples above.\n",
    "    Do not add any other text or information.\n",
    "    Do not explain what you do.\n",
    "   \"\"\"\n",
    "\n",
    "    return TOPICS_PROMPT\n",
    "\n",
    "def generate_extraction_prompt(topic, article):\n",
    "\n",
    "    EXTRATION_PROMPT = f\"\"\"\n",
    "    INSTRUCTION:\n",
    "    You will receive a text with some topics and subtopics. Your task is to extract only the topic you will be provided in the task:\n",
    "\n",
    "    TASK:\n",
    "    Extract the whole text of the {topic} of the article.\n",
    "\n",
    "    OUTPUT:\n",
    "    Your answer must be only the extracted text. \n",
    "    Do not add any other text or information.\n",
    "    Do not explain what you do.\n",
    "\n",
    "    Following the instrucionts above and extract the {topic} of this article: {article}\n",
    "    \"\"\"\n",
    "\n",
    "    return EXTRATION_PROMPT\n",
    "\n",
    "def generate_summarization_prompt(topic, text): \n",
    "\n",
    "    SUMMARIZE_PROMPT= f\"\"\"\n",
    "    INSTRUCTION:  \n",
    "    You are a research assistant specialized in summarizing and analyzing scientific articles. you will be provides of a {topic} of an article. You will analise it in details.\n",
    "\n",
    "    CONTEXT:  \n",
    "    The content of the {topic} are in the context.\n",
    "    context: {text}\n",
    "\n",
    "    TASK: \n",
    "    Summarize the text presented in the context, bringing the main points presented and What the study is proposing?\n",
    "\n",
    "    OUTPUT:\n",
    "    You must present the summary bringin the pros and cons of the study, in a mix of text and bullet points, avoiding to much bullets.\n",
    "    Your answer must be only the summary.  \n",
    "    Do not return any else, but the summary.\n",
    "    \"\"\"\n",
    "\n",
    "    return SUMMARIZE_PROMPT"
   ]
  },
  {
   "cell_type": "code",
   "execution_count": 0,
   "metadata": {
    "application/vnd.databricks.v1+cell": {
     "cellMetadata": {
      "byteLimit": 2048000,
      "rowLimit": 10000
     },
     "inputWidgets": {},
     "nuid": "85078ff9-221b-4c7e-b0ad-bd223542998f",
     "showTitle": false,
     "tableResultSettingsMap": {},
     "title": ""
    }
   },
   "outputs": [],
   "source": [
    "def extract_text_from_pdf(pdf_path):\n",
    "    with open(pdf_path, \"rb\") as file:\n",
    "        reader = PyPDF2.PdfReader(file)\n",
    "        text = \"\"\n",
    "        for page in reader.pages:\n",
    "            text += page.extract_text()\n",
    "        return text  # Truncate if needed for token limit\n",
    "\n",
    "def analyze_article(EXTRACTION_PROMPT):\n",
    "    extraction = chat_model.invoke(EXTRACTION_PROMPT).content\n",
    "    SUMMARIZE_PROMPT = generate_summarization_prompt(topic, extraction)\n",
    "    sumarization = chat_model.invoke(SUMMARIZE_PROMPT)\n",
    "\n",
    "    return sumarization.content\n",
    "\n",
    "def main():\n",
    "    for filename in files_list[:1]:        \n",
    "        if filename.endswith(\".pdf\"):\n",
    "            path = os.path.join(base_path, filename)\n",
    "            article_text = extract_text_from_pdf(path)\n",
    "            topics = chat_model.invoke(generate_get_topics_prompt(article)).content\n",
    "            for topic in topics:\n",
    "                analysis = analyze_article(generate_extraction_prompt(topic, article_text))\n",
    "                output_path = path.replace(\".pdf\", \"_analysis.txt\")\n",
    "                with open(output_path, \"a\", encoding=\"utf-8\") as out_file:\n",
    "                    out_file.write(analysis)\n",
    "                print(f\"Analysis saved to {output_path}\")"
   ]
  },
  {
   "cell_type": "code",
   "execution_count": 0,
   "metadata": {
    "application/vnd.databricks.v1+cell": {
     "cellMetadata": {
      "byteLimit": 2048000,
      "rowLimit": 10000
     },
     "inputWidgets": {},
     "nuid": "a8183ab8-d1a8-4a32-9568-f950fb6226e1",
     "showTitle": false,
     "tableResultSettingsMap": {},
     "title": ""
    }
   },
   "outputs": [],
   "source": [
    "main()"
   ]
  },
  {
   "cell_type": "code",
   "execution_count": 0,
   "metadata": {
    "application/vnd.databricks.v1+cell": {
     "cellMetadata": {
      "byteLimit": 2048000,
      "rowLimit": 10000
     },
     "inputWidgets": {},
     "nuid": "c2142c82-3d63-42fb-847b-3b76d6c1ce46",
     "showTitle": false,
     "tableResultSettingsMap": {},
     "title": ""
    }
   },
   "outputs": [],
   "source": [
    "topic = \"Introduction\"\n",
    "print(f\"Analisando o artigo {files_list[2]}\\n\")\n",
    "path = os.path.join(base_path, files_list[2])\n",
    "article = extract_text_from_pdf(path)\n",
    "\n",
    "print(\"Extraindo os topicos do artigo...\")\n",
    "topics = chat_model.invoke(generate_get_topics_prompt(article)).content\n",
    "topics = json.loads(topics)\n",
    "\n",
    "for topic in topics[:1]:\n",
    "    print(f\"Extraindo o topico {topic} do artigo {files_list[2]}\")\n",
    "    introduction = chat_model.invoke(generate_extraction_prompt(topics[0], article)).content\n",
    "    \n",
    "    print(f\"Gerando um resumo do topico {topic} do artigo {files_list[2]}...\")\n",
    "\n",
    "    summarization = chat_model.invoke(generate_summarization_prompt(topic, introduction)).content\n",
    "    print(\"################ Summary Start ################\\n\")\n",
    "    print(summarization)\n",
    "    print(\"################ Summary End ################\\n\")\n"
   ]
  },
  {
   "cell_type": "code",
   "execution_count": 0,
   "metadata": {
    "application/vnd.databricks.v1+cell": {
     "cellMetadata": {
      "byteLimit": 2048000,
      "rowLimit": 10000
     },
     "inputWidgets": {},
     "nuid": "e1346997-0026-459f-8e9f-17db2a96e82c",
     "showTitle": false,
     "tableResultSettingsMap": {},
     "title": ""
    }
   },
   "outputs": [],
   "source": []
  },
  {
   "cell_type": "code",
   "execution_count": 0,
   "metadata": {
    "application/vnd.databricks.v1+cell": {
     "cellMetadata": {
      "byteLimit": 2048000,
      "rowLimit": 10000
     },
     "inputWidgets": {},
     "nuid": "53ab6d96-90b1-4e21-bc92-b9131b229216",
     "showTitle": false,
     "tableResultSettingsMap": {},
     "title": ""
    }
   },
   "outputs": [],
   "source": [
    "main()"
   ]
  },
  {
   "cell_type": "code",
   "execution_count": 0,
   "metadata": {
    "application/vnd.databricks.v1+cell": {
     "cellMetadata": {},
     "inputWidgets": {},
     "nuid": "62beb2b1-46b7-4421-8e45-e2ed915dce6e",
     "showTitle": false,
     "tableResultSettingsMap": {},
     "title": ""
    }
   },
   "outputs": [],
   "source": []
  }
 ],
 "metadata": {
  "application/vnd.databricks.v1+notebook": {
   "computePreferences": null,
   "dashboards": [],
   "environmentMetadata": {
    "base_environment": "",
    "environment_version": "2"
   },
   "inputWidgetPreferences": null,
   "language": "python",
   "notebookMetadata": {
    "pythonIndentUnit": 4
   },
   "notebookName": "articles_study",
   "widgets": {}
  },
  "language_info": {
   "name": "python"
  }
 },
 "nbformat": 4,
 "nbformat_minor": 0
}
